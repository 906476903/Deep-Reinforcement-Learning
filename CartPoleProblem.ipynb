{
 "cells": [
  {
   "cell_type": "markdown",
   "metadata": {},
   "source": [
    "### Load the Libraries\n",
    "The libraries are imported. It can be seen that a new library called __'gym'__ is loaded. This is to provide an __interface__ for the game. It can be thought of as a video game taking input __action__ by the user and giving out the __next state__ of the system so that the user gets the information of the new state and plays accordingly by takeing a new action.\n",
    "\n",
    "<img width=\"320\" height=\"240\" src=\"Image/2.gif\" >"
   ]
  },
  {
   "cell_type": "code",
   "execution_count": 7,
   "metadata": {},
   "outputs": [],
   "source": [
    "import random\n",
    "import gym\n",
    "import numpy as np\n",
    "from collections import deque\n",
    "from keras.models import Sequential\n",
    "from keras.layers import Dense\n",
    "from keras.optimizers import Adam\n",
    "import matplotlib.pyplot as plt\n",
    "import pandas as pd\n",
    "import warnings\n",
    "warnings.filterwarnings('ignore')"
   ]
  },
  {
   "cell_type": "markdown",
   "metadata": {},
   "source": [
    "### Decide the number of times the AI system must play the game.\n",
    "This describes the number of episodes to train the model. The episodes can be thought of as the number of times the model plays the game. Here the system is the Cartpole Problem."
   ]
  },
  {
   "cell_type": "code",
   "execution_count": 8,
   "metadata": {},
   "outputs": [
    {
     "name": "stdout",
     "output_type": "stream",
     "text": [
      "Total Number of Episodes :800\n"
     ]
    }
   ],
   "source": [
    "EPISODES = 800\n",
    "print ('Total Number of Episodes :' + str(EPISODES))"
   ]
  },
  {
   "cell_type": "markdown",
   "metadata": {},
   "source": [
    "### Make a class named \"Agent\" to represent various function, methods and variables.\n",
    "#### Different Element of the Class:\n",
    "1. init or the initialiser \n",
    "   >This will initiasise the parameters of the class including the \n",
    "    - gamma : the discount rate. This takes care that future rewards which can come over time are weigted. For example if an action taken at this state can lead to some future reward then this future reward is weigted by gamma and added to the total reward at this state. This is called the discounted future reward. In real world one can think this discounted future reward as measuring the Quality of the action taken at any moment of the game.\n",
    "    - epsilon : the exploration rate of the model. The rate at which the agent will explore new actions against the predicted best action at that state. This can be thought of as a player trying to try new action just to find out if it works.\n",
    "    -epsilon decay : As the model learns to play the game with episodes the agent need to rely on the model and thus the exploration rate must be decreased. This can be compared to the style a player develops. Once developed the players starts playing in that way and seldom tries new ways\n",
    "    -learning rate- The learning rate of the model is the steps the deep learning network takes to learn the weights. The input to the model is the state of the environment and the output is the action the model must take in that state. This model can be imagines as a table which gives the best action to be taken at the state the environment returns.\n",
    "2. build model\n",
    "    >This will build the deep network which will learn the Q function.\n",
    "3. Replay memory\n",
    "    >This basically helps to add new sets of __(state, action, reward, next_state, done)__ to memory as the agent plays the game. This is inspired by the fact that human memory replays in sleep to learn something. In a more practical way this can thought as the agent making note of the set it experience and replays it after it has gather sufficient such memories. This helps in efficient learning.\n",
    "4. act\n",
    "    >This fuction takes an action based on the state the environment renders. This either takes \n",
    "    - a random action or \n",
    "    - an action predicted by the model. These two are controled according to the epsilon value. This is where the models explore new states and solves the Exploitation- Exploration Problem of the player.\n",
    "5. replay\n",
    "    >Here the model is trained with minibatches stored in the replay memory. The input is the state and the output is the Q values already predicted by the model. You would think why does the model trains itself on what it can predict. You are correct! There is a small twist. Here the predicted Q value corresponding to the action taken in the state is changed according to the bellmen equation, thus helping the model to learn the quality of the action based on the future reward it can expect by obsetving the next state the environment returned. This can be though of as a chess player evaluating himself after the game is over by considering the action taken at any step and the consequence of the action at that step which is the opponents next move. If the opponents next move gave the player a pawn he would add this reward back to the action he took in the previous step.\n",
    "     - state : This is the current state of the model\n",
    "     - target_f : The row of the Q-matrix corresponding to the current state. In this the Q-value of action-state pair is changed according to the bellmen equation.\n",
    "     <img src=\"Image/1.png\" width=\"400\" length=\"700\">"
   ]
  },
  {
   "cell_type": "code",
   "execution_count": 10,
   "metadata": {},
   "outputs": [],
   "source": [
    "\n",
    "class Agent:\n",
    "    \n",
    "    def __init__(self, state_size, action_size):\n",
    "        \n",
    "        self.state_size = state_size\n",
    "        self.action_size = action_size\n",
    "        self.memory = deque(maxlen=2000)\n",
    "        self.gamma = 0.95          # Discount rate\n",
    "        self.epsilon = .8          # Exploration rate\n",
    "        self.epsilon_min = 0.01\n",
    "        self.epsilon_decay = .998  # Rate at which the epsilon will decay. Exploration- Exploitation problem.\n",
    "        self.learning_rate = 0.001\n",
    "        self.model = self.build_model()\n",
    "\n",
    "    def build_model(self):\n",
    "        \n",
    "        model = Sequential()\n",
    "        model.add(Dense(24, input_dim=self.state_size, activation='relu'))\n",
    "        model.add(Dense(24, activation='relu'))\n",
    "        model.add(Dense(self.action_size, activation='linear'))\n",
    "        \n",
    "        model.compile(loss='mse', optimizer=Adam(lr=self.learning_rate))\n",
    "        \n",
    "        return model\n",
    "\n",
    "    def remember(self, state, action, reward, next_state, done):\n",
    "        \n",
    "        self.memory.append((state, action, reward, next_state, done))\n",
    "\n",
    "    \n",
    "    def act(self, state):\n",
    "        \n",
    "        if np.random.rand() <= self.epsilon:\n",
    "            return random.randrange(self.action_size)   # Random action\n",
    "        act_values = self.model.predict(state)          # Models predicted action \n",
    "        return np.argmax(act_values[0])                 # Returns action\n",
    "\n",
    "    \n",
    "    def replay(self, batch_size):\n",
    "        \n",
    "        # Make a minibatch by random selection from the memory.\n",
    "        minibatch = random.sample(self.memory, batch_size)\n",
    "        \n",
    "        for state, action, reward, next_state, done in minibatch:\n",
    "            #     If the game is not over then the reward will be the discounted future reward given by the Bellmen Equation.\n",
    "            if not done:\n",
    "                target = (reward + self.gamma * np.amax(self.model.predict(next_state)[0]))\n",
    "            #     If the game is over then the reward will be the immediate reward at that step.\n",
    "            else: target = reward\n",
    "\n",
    "            target_f = self.model.predict(state)\n",
    "            #     Here the target value corresponding to a action which was taken is changed is changed.\n",
    "            target_f[0][action] = target\n",
    "            \n",
    "            #     Now this is passed to the model so that it can learn by backpropagating the Error.\n",
    "            self.model.fit(state, target_f, epochs=1, verbose=0)\n",
    "            \n",
    "        #    This step decreases the value of epsilon with the progression of training to reduce exploration by \n",
    "        #    multiplying it with the decay rate\n",
    "        if self.epsilon > self.epsilon_min:\n",
    "            self.epsilon *= self.epsilon_decay"
   ]
  },
  {
   "cell_type": "markdown",
   "metadata": {},
   "source": [
    "### Make environment for the Cartpole problem\n",
    "Make an environment and set the state size and the action size. Also make an object of the class Agent. This will be the player of our game.\n",
    "\n",
    "1. State Size of the problem - The state of the cartpole is represented by a state which includes:__[position of cart, velocity of cart, angle of pole, rotation rate of pole]__Hence for the cartpole problem the state_size is 4. Maybe in other game like mario the state size can be four consecutive srcreens just before the current screen. This may give important information of velocity of mario, velocity of the obstacles, position of the obstackles etc. \n",
    "2. The action of the cartpole can be:__[push the cart to left, push the cart to right]__.Hence the action_size will be 2 in that case. In case of a chess player playing a game the action size may be large enough and may change with time(For example a pawn dies or the knight cannot move as it is surrounded, the action size reduces)."
   ]
  },
  {
   "cell_type": "code",
   "execution_count": 11,
   "metadata": {},
   "outputs": [
    {
     "name": "stderr",
     "output_type": "stream",
     "text": [
      "[2018-01-02 04:22:45,403] Making new env: CartPole-v1\n"
     ]
    }
   ],
   "source": [
    "env = gym.make('CartPole-v1')\n",
    "\n",
    "state_size = env.observation_space.shape[0]\n",
    "\n",
    "action_size = env.action_space.n\n",
    "\n",
    "agent = Agent(state_size, action_size)"
   ]
  },
  {
   "cell_type": "markdown",
   "metadata": {},
   "source": [
    "## Run the model to estimate the Q Function using the Deep Learning Model(Deep Q Network)\n",
    "Here the network is run. First the agent takes an action based on its functions(Either random or predicted by the model- controlled by the epsilon value). Next the environment responds by giving back a new state(can be thought of as the opponents move). The agent takes the __current state, action, reward, the next_state, done status(1= game over, 0= game not over)__ and stores it in its memory(can be though of as the chess player writing his log). These steps are repeated untill the game gets over ( or time 500 whichever is lower ). After the game gets over the agent starts to play again for the second episode. However before starting the next game the agent checks if it has sufficient memory(can be thought of as the chess player checking if he has 2(his wish maybe 3) pages of log and starts to analyse his game). If it has enough examples it randomly samples few of them and goes on for an experience replay(model training) and after it does its homework it returns back to the for loop to play the game in a much better way. This cycle is repeated until the network has learned a good game."
   ]
  },
  {
   "cell_type": "code",
   "execution_count": 7,
   "metadata": {
    "scrolled": true
   },
   "outputs": [
    {
     "name": "stdout",
     "output_type": "stream",
     "text": [
      "episode: 0/800, score: 163, e: 0.45\n",
      "episode: 20/800, score: 123, e: 0.43\n",
      "episode: 40/800, score: 58, e: 0.41\n",
      "episode: 60/800, score: 29, e: 0.4\n",
      "episode: 80/800, score: 188, e: 0.38\n",
      "episode: 100/800, score: 276, e: 0.37\n",
      "episode: 120/800, score: 22, e: 0.35\n",
      "episode: 140/800, score: 176, e: 0.34\n",
      "episode: 160/800, score: 95, e: 0.32\n",
      "episode: 180/800, score: 293, e: 0.31\n",
      "episode: 200/800, score: 137, e: 0.3\n",
      "episode: 220/800, score: 143, e: 0.29\n",
      "episode: 240/800, score: 209, e: 0.28\n",
      "episode: 260/800, score: 499, e: 0.27\n",
      "episode: 280/800, score: 495, e: 0.26\n",
      "episode: 300/800, score: 238, e: 0.25\n",
      "episode: 320/800, score: 285, e: 0.24\n",
      "episode: 340/800, score: 360, e: 0.23\n",
      "episode: 360/800, score: 167, e: 0.22\n",
      "episode: 380/800, score: 499, e: 0.21\n",
      "episode: 400/800, score: 421, e: 0.2\n",
      "episode: 420/800, score: 174, e: 0.19\n",
      "episode: 440/800, score: 16, e: 0.19\n",
      "episode: 460/800, score: 18, e: 0.18\n",
      "episode: 480/800, score: 186, e: 0.17\n",
      "episode: 500/800, score: 188, e: 0.16\n",
      "episode: 520/800, score: 204, e: 0.16\n",
      "episode: 540/800, score: 116, e: 0.15\n",
      "episode: 560/800, score: 186, e: 0.15\n",
      "episode: 580/800, score: 192, e: 0.14\n",
      "episode: 600/800, score: 134, e: 0.13\n",
      "episode: 620/800, score: 232, e: 0.13\n",
      "episode: 640/800, score: 233, e: 0.12\n",
      "episode: 660/800, score: 163, e: 0.12\n",
      "episode: 680/800, score: 269, e: 0.11\n",
      "episode: 700/800, score: 331, e: 0.11\n",
      "episode: 720/800, score: 233, e: 0.11\n",
      "episode: 740/800, score: 220, e: 0.1\n",
      "episode: 760/800, score: 219, e: 0.098\n",
      "episode: 780/800, score: 124, e: 0.094\n"
     ]
    }
   ],
   "source": [
    "episode= []\n",
    "\n",
    "#Set this to false as initially the model must think the game is not over untill and unless the env says so.\n",
    "done = False\n",
    "\n",
    "#Set the batch size of the minibatch for the training of the deepQModel.\n",
    "batch_size = 32\n",
    "print ('Batch size: '+ str(batch_size))\n",
    "\n",
    "#Show the architecture of the model\n",
    "print ('The summary of the model')\n",
    "agent.model.summary()\n",
    "#Run the iterations for the number of predefined Episodes. Each episode is the time between game start and end.\n",
    "for e in range(EPISODES):\n",
    "    state = env.reset()\n",
    "    state = np.reshape(state, [1, state_size])\n",
    "    for time in range(500):\n",
    "        #env.render()\n",
    "        \n",
    "        #Deciding the action to be taken for the above rendered state.\n",
    "        action = agent.act(state)\n",
    "        \n",
    "        #The environments response to the action taken by the model in the above step.\n",
    "        next_state, reward, done, _ = env.step(action)\n",
    "        \n",
    "        #The reward will be -10 if the cartpole falls and the game ends.\n",
    "        reward = reward if not done else -10\n",
    "        \n",
    "        next_state = np.reshape(next_state, [1, state_size])\n",
    "        \n",
    "        #The data of every time step is added to the memory for training after the episode terminates.\n",
    "        agent.remember(state, action, reward, next_state, done)\n",
    "        \n",
    "        state = next_state\n",
    "        if done:\n",
    "            if (e%20==0) :\n",
    "                print(\"episode: {}/{}, score: {}, e: {:.2}\"\n",
    "                        .format(e, EPISODES, time, agent.epsilon))\n",
    "                \n",
    "            episode.append(time)\n",
    "            break\n",
    "            \n",
    "    #After a single game is done(or after every episode), the model trains itself with the data stored in the \n",
    "    #memory by first checking if it has sufficient memory.\n",
    "    if len(agent.memory) > batch_size:\n",
    "        agent.replay(batch_size)"
   ]
  },
  {
   "cell_type": "markdown",
   "metadata": {},
   "source": [
    "### Print the score of the model as a graph for visualisation."
   ]
  },
  {
   "cell_type": "code",
   "execution_count": 8,
   "metadata": {},
   "outputs": [
    {
     "data": {
      "image/png": "[encoded data removed]",
      "text/plain": [
       "<matplotlib.figure.Figure at 0x7f89176272d0>"
      ]
     },
     "metadata": {},
     "output_type": "display_data"
    }
   ],
   "source": [
    "episode= pd.DataFrame(episode[:700])\n",
    "episode= pd.rolling_median(episode, 25)\n",
    "plt.figure(figsize=(20,8))\n",
    "plt.plot(episode)\n",
    "plt.show()"
   ]
  },
  {
   "cell_type": "code",
   "execution_count": null,
   "metadata": {
    "collapsed": true
   },
   "outputs": [],
   "source": []
  }
 ],
 "metadata": {
  "kernelspec": {
   "display_name": "Python 3",
   "language": "python",
   "name": "python3"
  },
  "language_info": {
   "codemirror_mode": {
    "name": "ipython",
    "version": 3
   },
   "file_extension": ".py",
   "mimetype": "text/x-python",
   "name": "python",
   "nbconvert_exporter": "python",
   "pygments_lexer": "ipython3",
   "version": "3.6.4"
  }
 },
 "nbformat": 4,
 "nbformat_minor": 2
}
